{
  "nbformat": 4,
  "nbformat_minor": 0,
  "metadata": {
    "kernelspec": {
      "display_name": "Python 3",
      "language": "python",
      "name": "python3"
    },
    "language_info": {
      "codemirror_mode": {
        "name": "ipython",
        "version": 3
      },
      "file_extension": ".py",
      "mimetype": "text/x-python",
      "name": "python",
      "nbconvert_exporter": "python",
      "pygments_lexer": "ipython3",
      "version": "3.6.2"
    },
    "colab": {
      "name": "ICA3_DataMining.ipynb",
      "provenance": []
    }
  },
  "cells": [
    {
      "cell_type": "code",
      "metadata": {
        "id": "aeOFPrbfO35O",
        "colab_type": "code",
        "colab": {},
        "outputId": "047a9fbc-4661-4018-9584-e2dca7c869a3"
      },
      "source": [
        "#  Ebnable HTML/CSS \n",
        "from IPython.core.display import HTML\n",
        "HTML(\"<link href='https://fonts.googleapis.com/css?family=Passion+One' rel='stylesheet' type='text/css'><style>div.attn { font-family: 'Helvetica Neue'; font-size: 30px; line-height: 40px; color: #FFFFFF; text-align: center; margin: 30px 0; border-width: 10px 0; border-style: solid; border-color: #5AAAAA; padding: 30px 0; background-color: #DDDDFF; }hr { border: 0; background-color: #ffffff; border-top: 1px solid black; }hr.major { border-top: 10px solid #5AAA5A; }hr.minor { border: none; background-color: #ffffff; border-top: 5px dotted #CC3333; }div.bubble { width: 65%; padding: 20px; background: #DDDDDD; border-radius: 15px; margin: 0 auto; font-style: italic; color: #f00; }em { color: #AAA; }div.c1{visibility:hidden;margin:0;height:0;}div.note{color:red;}</style>\")"
      ],
      "execution_count": 0,
      "outputs": [
        {
          "output_type": "execute_result",
          "data": {
            "text/html": [
              "<link href='https://fonts.googleapis.com/css?family=Passion+One' rel='stylesheet' type='text/css'><style>div.attn { font-family: 'Helvetica Neue'; font-size: 30px; line-height: 40px; color: #FFFFFF; text-align: center; margin: 30px 0; border-width: 10px 0; border-style: solid; border-color: #5AAAAA; padding: 30px 0; background-color: #DDDDFF; }hr { border: 0; background-color: #ffffff; border-top: 1px solid black; }hr.major { border-top: 10px solid #5AAA5A; }hr.minor { border: none; background-color: #ffffff; border-top: 5px dotted #CC3333; }div.bubble { width: 65%; padding: 20px; background: #DDDDDD; border-radius: 15px; margin: 0 auto; font-style: italic; color: #f00; }em { color: #AAA; }div.c1{visibility:hidden;margin:0;height:0;}div.note{color:red;}</style>"
            ],
            "text/plain": [
              "<IPython.core.display.HTML object>"
            ]
          },
          "metadata": {
            "tags": []
          },
          "execution_count": 1
        }
      ]
    },
    {
      "cell_type": "markdown",
      "metadata": {
        "id": "5jfBHu5xO35f",
        "colab_type": "text"
      },
      "source": [
        "Enter Team Member Names here (double click to edit):\n",
        "\n",
        "*Name 1: Amber Burnett\n",
        "*Name 2: Jeremy Otsap\n",
        "*Name 3: Lance Dacy\n",
        "*Name 4: Shawn Jung\n",
        "________\n",
        "\n",
        "# In Class Assignment Three\n",
        "In the following assignment you will be asked to fill in python code and derivations for a number of different problems. Please read all instructions carefully and turn in the rendered notebook (or HTML of the rendered notebook)  before the end of class.\n",
        "\n",
        "<a id=\"top\"></a>\n",
        "## Contents\n",
        "* <a href=\"#Loading\">Loading the Data</a>\n",
        "* <a href=\"#distance\">Measuring Distances</a>\n",
        "* <a href=\"#KNN\">K-Nearest Neighbors</a>\n",
        "* <a href=\"#naive\">Naive Bayes</a>\n",
        "\n",
        "________________________________________________________________________________________________________\n",
        "<a id=\"Loading\"></a>\n",
        "<a href=\"#top\">Back to Top</a>\n",
        "## Downloading the Document Data\n",
        "Please run the following code to read in the \"20 newsgroups\" dataset from sklearn's data loading module."
      ]
    },
    {
      "cell_type": "code",
      "metadata": {
        "id": "N4x_5m3iO35h",
        "colab_type": "code",
        "colab": {
          "base_uri": "https://localhost:8080/",
          "height": 88
        },
        "outputId": "b1b67fbe-22aa-424f-f476-f7a7b25fc3ad"
      },
      "source": [
        "from sklearn.datasets import fetch_20newsgroups_vectorized\n",
        "import numpy as np\n",
        "from __future__ import print_function\n",
        "\n",
        "# this takes about 30 seconds to compute, read the next section while this downloads\n",
        "ds = fetch_20newsgroups_vectorized(subset='train')\n",
        "\n",
        "# this holds the continuous feature data (which is tfidf)\n",
        "print('features shape:', ds.data.shape) # there are ~11000 instances and ~130k features per instance\n",
        "print('target shape:', ds.target.shape) \n",
        "print('range of target:', np.min(ds.target),np.max(ds.target))\n",
        "print('Data type is', type(ds.data), float(ds.data.nnz)/(ds.data.shape[0]*ds.data.shape[1])*100, '% of the data is non-zero')"
      ],
      "execution_count": 2,
      "outputs": [
        {
          "output_type": "stream",
          "text": [
            "features shape: (11314, 130107)\n",
            "target shape: (11314,)\n",
            "range of target: 0 19\n",
            "Data type is <class 'scipy.sparse.csr.csr_matrix'> 0.1214353154362896 % of the data is non-zero\n"
          ],
          "name": "stdout"
        }
      ]
    },
    {
      "cell_type": "markdown",
      "metadata": {
        "id": "ulS0DrVmO35k",
        "colab_type": "text"
      },
      "source": [
        "## Understanding the Dataset\n",
        "Look at the description for the 20 newsgroups dataset at http://qwone.com/~jason/20Newsgroups/. You have just downloaded the \"vectorized\" version of the dataset, which means all the words inside the articles have gone through a transformation that binned them into 130 thousand features related to the words in them.  \n",
        "\n",
        "**Question Set 1**:\n",
        "- How many instances are in the dataset? \n",
        "- What does each instance represent? \n",
        "- How many classes are in the dataset and what does each class represent?\n",
        "- Would you expect a classifier trained on this data would generalize to documents written in the past week? Why or why not?\n",
        "- Is the data represented as a sparse or dense matrix?"
      ]
    },
    {
      "cell_type": "markdown",
      "metadata": {
        "id": "QtlTZJuGO35m",
        "colab_type": "text"
      },
      "source": [
        "___\n",
        "Enter your answer here:\n",
        "\n",
        "*Double click to edit*\n",
        "\n",
        "\n",
        "This is a dataset of news article topics. There are about 11,000 instances, each representing a news article. There are 20 different groups that are labeled in the dataset. The data will be very sparse, with only a small percentage of the data having a numeric value and all others being zero. \n",
        "\n",
        "This data was trained from twenty year old articles so many news topics would not generalize to topics in today's news. In fact, many words like 'facebook', 'twitter', and 'Obama' would not even be present in the existing dataset, but are important for modern topic classifiers to understand. However, some health related topics may still work well--it depends on how much the underlying distribution of words is changing.\n",
        "\n",
        "This data is represented as a sparse matrix, meaning only non-zero values are stored with their matrix location."
      ]
    },
    {
      "cell_type": "markdown",
      "metadata": {
        "id": "v-ucIyTLO35o",
        "colab_type": "text"
      },
      "source": [
        "___\n",
        "<a id=\"distance\"></a>\n",
        "<a href=\"#top\">Back to Top</a>\n",
        "## Measures of Distance\n",
        "In the following block of code, we isolate three instances from the dataset. The instance \"`a`\" is from the group *computer graphics*, \"`b`\" is from from the group *recreation autos*, and \"`c`\" is from group *recreation motorcycle*. **Exercise for part 2**: Calculate the: \n",
        "- (1) Euclidean distance\n",
        "- (2) Cosine distance \n",
        "- (3) Jaccard similarity \n",
        "\n",
        "between each pair of instances using the imported functions below. Remember that the Jaccard similarity is only for binary valued vectors, so convert vectors to binary using a threshold. \n",
        "\n",
        "**Question for part 2**: Which distance seems more appropriate to use for this data? **Why**?"
      ]
    },
    {
      "cell_type": "code",
      "metadata": {
        "id": "_-4uJTYRO35s",
        "colab_type": "code",
        "colab": {
          "base_uri": "https://localhost:8080/",
          "height": 266
        },
        "outputId": "83239045-0f70-46eb-dbd0-015b879a595b"
      },
      "source": [
        "from scipy.spatial.distance import cosine\n",
        "from scipy.spatial.distance import euclidean\n",
        "from scipy.spatial.distance import jaccard\n",
        "import numpy as np\n",
        "\n",
        "# get first instance (comp)\n",
        "idx = 550\n",
        "a = ds.data[idx].todense()\n",
        "a_class = ds.target_names[ds.target[idx]]\n",
        "print('Instance A is from class', a_class)\n",
        "\n",
        "# get second instance (autos)\n",
        "idx = 4000\n",
        "b = ds.data[idx].todense()\n",
        "b_class = ds.target_names[ds.target[idx]]\n",
        "print('Instance B is from class', b_class)\n",
        "\n",
        "# get third instance (motorcycle)\n",
        "idx = 7000\n",
        "c = ds.data[idx].todense()\n",
        "c_class = ds.target_names[ds.target[idx]]\n",
        "print('Instance C is from class', c_class)\n",
        "\n",
        "# Enter distance comparison below for each pair of vectors:\n",
        "p = 'Placeholder'\n",
        "print('Euclidean Distance\\n ab:', euclidean(a,b), 'ac:', euclidean(a,c), 'bc:', euclidean(b,c))\n",
        "print('Cosine Distance\\n ab:', cosine(a,b), 'ac:', cosine(a,c), 'bc:', cosine(b,c))\n",
        "print('Jaccard Dissimilarity (vectors should be boolean values)\\n ab:', jaccard(a>0,b>0), 'ac:', jaccard(a>0,c>0), 'bc:', jaccard(b>0,c>0))\n",
        "\n",
        "print('\\n\\nThe most appropriate distance is...')\n",
        "print('Cosine. It clearly delineates between topics effectively. B and C are closest (by far),',)\n",
        "print('and A is about the same distance from B and C. Euclidean also works well, but not quite as good as \"cosine\"')"
      ],
      "execution_count": 3,
      "outputs": [
        {
          "output_type": "stream",
          "text": [
            "Instance A is from class comp.graphics\n",
            "Instance B is from class rec.autos\n",
            "Instance C is from class rec.motorcycles\n",
            "Euclidean Distance\n",
            " ab: 1.0985184671870858 ac: 1.1891405425398234 bc: 0.9177794226661624\n",
            "Cosine Distance\n",
            " ab: 0.6033714113755322 ac: 0.7070276149559529 bc: 0.4211595343347173\n",
            "Jaccard Dissimilarity (vectors should be boolean values)\n",
            " ab: 0.8821138211382114 ac: 0.8754716981132076 bc: 0.9087947882736156\n",
            "\n",
            "\n",
            "The most appropriate distance is...\n",
            "Cosine. It clearly delineates between topics effectively. B and C are closest (by far),\n",
            "and A is about the same distance from B and C. Euclidean also works well, but not quite as good as \"cosine\"\n"
          ],
          "name": "stdout"
        }
      ]
    },
    {
      "cell_type": "markdown",
      "metadata": {
        "id": "A55LFrGhO35z",
        "colab_type": "text"
      },
      "source": [
        "___\n",
        "# Start of Live Session Assignment\n",
        "___\n",
        "<a id=\"KNN\"></a>\n",
        "<a href=\"#top\">Back to Top</a>\n",
        "## Using scikit-learn with KNN\n",
        "Now let's use stratified cross validation with a holdout set to train a KNN model in `scikit-learn`. Use the example below to train a KNN classifier. The documentation for `KNeighborsClassifier` is here: http://scikit-learn.org/stable/modules/generated/sklearn.neighbors.KNeighborsClassifier.html  \n",
        "\n",
        "**Exercise for part 3**: Use the code below to test what value of `n_neighbors` works best for the given data. *Note: do NOT change the metric to be anything other than `'euclidean'`. Other distance functions are not optimized for the amount of data we are working with.* \n",
        "\n",
        "**Question for part 3**: What is the accuracy of the best classifier you can create for this data (by changing only the `n_neighbors` parameter)? "
      ]
    },
    {
      "cell_type": "code",
      "metadata": {
        "id": "G4IjrFw6O351",
        "colab_type": "code",
        "colab": {
          "base_uri": "https://localhost:8080/",
          "height": 239
        },
        "outputId": "c7a5f57d-15f6-41db-ec72-95e90f03b746"
      },
      "source": [
        "from sklearn.model_selection import StratifiedShuffleSplit\n",
        "from sklearn.neighbors import KNeighborsClassifier\n",
        "from sklearn.metrics import accuracy_score\n",
        "from IPython.html import widgets \n",
        "\n",
        "#cv = StratifiedShuffleSplit(ds.target, n_iter = 1, test_size = 0.5, train_size=0.5)\n",
        "\n",
        "from sklearn.model_selection import StratifiedShuffleSplit\n",
        "sss = StratifiedShuffleSplit(n_splits=5, test_size=0.5, train_size=0.5, random_state=0)\n",
        "sss.get_n_splits(ds.data, ds.target)\n",
        "\n",
        "\n",
        "# fill in the training and testing data and save as separate variables\n",
        "for trainidx, testidx in sss.split(X,y):\n",
        "    # note that these are sparse matrices\n",
        "    X_train = ds.data[trainidx] \n",
        "    X_test = ds.data[testidx] \n",
        "    y_train = ds.target[trainidx]\n",
        "    y_test = ds.target[testidx]\n",
        "\n",
        "\n",
        "# fill in your code  here to train and test\n",
        "# calculate the accuracy and print it for various values of K\n",
        "K = 5 \n",
        "clf = KNeighborsClassifier(n_neighbors=K, weights='uniform', metric='euclidean')\n",
        "\n",
        "\n",
        "acc = 0.2 # overwrite this with the actual accuracy\n",
        "\n",
        "#=====================================\n",
        "\n",
        "print('Accuracy of classifier with %d neighbors is: %.2f'%(K,acc))\n"
      ],
      "execution_count": 9,
      "outputs": [
        {
          "output_type": "error",
          "ename": "NameError",
          "evalue": "ignored",
          "traceback": [
            "\u001b[0;31m---------------------------------------------------------------------------\u001b[0m",
            "\u001b[0;31mNameError\u001b[0m                                 Traceback (most recent call last)",
            "\u001b[0;32m<ipython-input-9-e404fe55ac5e>\u001b[0m in \u001b[0;36m<module>\u001b[0;34m()\u001b[0m\n\u001b[1;32m     12\u001b[0m \u001b[0;34m\u001b[0m\u001b[0m\n\u001b[1;32m     13\u001b[0m \u001b[0;31m# fill in the training and testing data and save as separate variables\u001b[0m\u001b[0;34m\u001b[0m\u001b[0;34m\u001b[0m\u001b[0;34m\u001b[0m\u001b[0m\n\u001b[0;32m---> 14\u001b[0;31m \u001b[0;32mfor\u001b[0m \u001b[0mtrainidx\u001b[0m\u001b[0;34m,\u001b[0m \u001b[0mtestidx\u001b[0m \u001b[0;32min\u001b[0m \u001b[0msss\u001b[0m\u001b[0;34m.\u001b[0m\u001b[0msplit\u001b[0m\u001b[0;34m(\u001b[0m\u001b[0mX\u001b[0m\u001b[0;34m,\u001b[0m\u001b[0my\u001b[0m\u001b[0;34m)\u001b[0m\u001b[0;34m:\u001b[0m\u001b[0;34m\u001b[0m\u001b[0;34m\u001b[0m\u001b[0m\n\u001b[0m\u001b[1;32m     15\u001b[0m     \u001b[0;31m# note that these are sparse matrices\u001b[0m\u001b[0;34m\u001b[0m\u001b[0;34m\u001b[0m\u001b[0;34m\u001b[0m\u001b[0m\n\u001b[1;32m     16\u001b[0m     \u001b[0mX_train\u001b[0m \u001b[0;34m=\u001b[0m \u001b[0mds\u001b[0m\u001b[0;34m.\u001b[0m\u001b[0mdata\u001b[0m\u001b[0;34m[\u001b[0m\u001b[0mtrainidx\u001b[0m\u001b[0;34m]\u001b[0m\u001b[0;34m\u001b[0m\u001b[0;34m\u001b[0m\u001b[0m\n",
            "\u001b[0;31mNameError\u001b[0m: name 'X' is not defined"
          ]
        }
      ]
    },
    {
      "cell_type": "markdown",
      "metadata": {
        "id": "85TK9o-AO357",
        "colab_type": "text"
      },
      "source": [
        "The best accuracy is XX with XX neighbors."
      ]
    },
    {
      "cell_type": "markdown",
      "metadata": {
        "id": "9_i5bNTDO359",
        "colab_type": "text"
      },
      "source": [
        "**Question for part 3**: With sparse data, does the use of a KDTree representation make sense? Why or Why not?"
      ]
    },
    {
      "cell_type": "markdown",
      "metadata": {
        "id": "87jKnFK6O35_",
        "colab_type": "text"
      },
      "source": [
        "Enter your answer below:\n",
        "\n",
        "*Double Click to edit*\n",
        "___"
      ]
    },
    {
      "cell_type": "markdown",
      "metadata": {
        "collapsed": true,
        "id": "AcZJqGR9O36B",
        "colab_type": "text"
      },
      "source": [
        "_____\n",
        "## KNN extensions - Centroids\n",
        "Now lets look at a very closely related classifier to KNN, called nearest centroid. In this classifier (which is more appropriate for big data scenarios and sparse data), the training step is used to calculate the centroids for each class. These centroids are saved. Unknown attributes, at prediction time, only need to have distances calculated for each saved centroid, drastically decreasing the time required for a prediction. \n",
        "\n",
        "**Exercise for part 4**: Use the template code below to create a nearest centroid classifier. Test which metric has the best cross validated performance: Euclidean, Cosine, or Manhattan. In `scikit-learn` you can see the documentation for NearestCentroid here: \n",
        "- http://scikit-learn.org/stable/modules/generated/sklearn.neighbors.NearestCentroid.html#sklearn.neighbors.NearestCentroid\n",
        "\n",
        "and for supported distance metrics here:\n",
        "- http://scikit-learn.org/stable/modules/generated/sklearn.metrics.pairwise.distance_metrics.html#sklearn.metrics.pairwise.distance_metrics"
      ]
    },
    {
      "cell_type": "code",
      "metadata": {
        "id": "Ge5jN0eLO36C",
        "colab_type": "code",
        "colab": {},
        "outputId": "a637d7c9-8da4-4127-f55a-b349c35ca31b"
      },
      "source": [
        "from sklearn.neighbors.nearest_centroid import NearestCentroid\n",
        "\n",
        "# the parameters for the nearest centroid metric to test are:\n",
        "#    l1, l2, and cosine (all are optimized)\n",
        "clf = NearestCentroid(metric='euclidean')\n",
        "\n",
        "# fill in your code here\n",
        "\n",
        "\n",
        "print('The best distance metric is: ', p)"
      ],
      "execution_count": 0,
      "outputs": [
        {
          "output_type": "stream",
          "text": [
            "The best distance metric is:  Placeholder\n"
          ],
          "name": "stdout"
        }
      ]
    },
    {
      "cell_type": "markdown",
      "metadata": {
        "id": "GpovfBS3O36F",
        "colab_type": "text"
      },
      "source": [
        "___\n",
        "<a id=\"naive\"></a>\n",
        "<a href=\"#top\">Back to Top</a>\n",
        "## Naive Bayes Classification\n",
        "Now let's look at the use of the Naive Bayes classifier. The 20 newsgroups dataset has 20 classes and about 130,000 features per instance. Recall that the Naive Bayes classifer calculates a posterior distribution for each possible class. Each posterior distribution is a multiplication of many conditional distributions: \n",
        "\n",
        "$${\\arg \\max}_{j} \\left(p(class=j)\\prod_{i} p(attribute=i|class=j) \\right)$$\n",
        "\n",
        "where $p(class=j)$ is the prior and $p(attribute=i|class=j)$ is the conditional probability.\n",
        "\n",
        "**Question for part 5**: With this many classes and features, how many different conditional probabilities need to be parameterized? How many priors need to be parameterized?"
      ]
    },
    {
      "cell_type": "markdown",
      "metadata": {
        "id": "AqYBkYCAO36G",
        "colab_type": "text"
      },
      "source": [
        "Enter you answer here:\n",
        "\n",
        "*Double Click to edit*\n"
      ]
    },
    {
      "cell_type": "code",
      "metadata": {
        "id": "BxRD17VKO36I",
        "colab_type": "code",
        "colab": {}
      },
      "source": [
        "# Use this space for any calculations you might want to do\n"
      ],
      "execution_count": 0,
      "outputs": []
    },
    {
      "cell_type": "markdown",
      "metadata": {
        "id": "fiilyg0gO36Q",
        "colab_type": "text"
      },
      "source": [
        "___\n",
        "## Naive Bayes in Scikit-learn\n",
        "Scikit has several implementations of the Naive Bayes classifier: `GaussianNB`, `MultinomialNB`, and `BernoulliNB`. Look at the documentation here: http://scikit-learn.org/stable/modules/naive_bayes.html Take a look at each implementation and then answer this question: \n",
        "\n",
        "**Questions for part 6**: \n",
        "- If the instances contain mostly continuous attributes, would it be better to use Gaussian Naive Bayes, Multinomial Naive Bayes, or Bernoulli? And Why? \n",
        "- What if the data is sparse, does this change your answer? Why or Why not?"
      ]
    },
    {
      "cell_type": "markdown",
      "metadata": {
        "id": "eQZL8TBbO36T",
        "colab_type": "text"
      },
      "source": [
        "Enter you answer here:\n",
        "\n",
        "*Double Click to edit*\n",
        "\n",
        "___"
      ]
    },
    {
      "cell_type": "markdown",
      "metadata": {
        "id": "BV7fjgTiO36V",
        "colab_type": "text"
      },
      "source": [
        "## Naive Bayes Comparison\n",
        "For the final section of this notebook let's compare the performance of Naive Bayes for document classification. Look at the parameters for `MultinomialNB`, and `BernoulliNB` (especially `alpha` and `binarize`). \n",
        "\n",
        "**Exercise for part 7**: Using the example code below, change the parameters for each classifier and see how accurate you can make the classifiers on the test set. \n",
        "\n",
        "**Question for part 7**: Why are these implementations so fast to train? What does the `'alpha'` value control in these models (*i.e.*, how does it change the parameterizations)? "
      ]
    },
    {
      "cell_type": "code",
      "metadata": {
        "id": "g88Jq5UxO36X",
        "colab_type": "code",
        "colab": {},
        "outputId": "b8c8d7aa-18c6-4ebe-ef6a-cc1cd5797787"
      },
      "source": [
        "from sklearn.naive_bayes import MultinomialNB\n",
        "from sklearn.naive_bayes import BernoulliNB\n",
        "\n",
        "\n",
        "clf_mnb = MultinomialNB(alpha=1.0)\n",
        "clf_bnb = BernoulliNB(alpha=1.0, binarize=0.0)\n",
        "\n",
        "# fill in your code here\n",
        "\n",
        "            \n",
        "print('These classifiers are so fast because...', p)\n",
        "print('The alpha values control...', p)\n"
      ],
      "execution_count": 0,
      "outputs": [
        {
          "output_type": "stream",
          "text": [
            "These classifiers are so fast because... Placeholder\n",
            "The alpha values control... Placeholder\n"
          ],
          "name": "stdout"
        }
      ]
    },
    {
      "cell_type": "markdown",
      "metadata": {
        "collapsed": true,
        "id": "KyDY3Mq_O36c",
        "colab_type": "text"
      },
      "source": [
        "________________________________________________________________________________________________________\n",
        "\n",
        "That's all! Please **upload your rendered notebook to blackboard** and please include **team member names** in the notebook submission."
      ]
    },
    {
      "cell_type": "code",
      "metadata": {
        "id": "zOQSoWVRO36e",
        "colab_type": "code",
        "colab": {}
      },
      "source": [
        ""
      ],
      "execution_count": 0,
      "outputs": []
    }
  ]
}