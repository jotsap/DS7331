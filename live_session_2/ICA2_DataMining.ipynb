{
  "nbformat": 4,
  "nbformat_minor": 0,
  "metadata": {
    "kernelspec": {
      "display_name": "Python 3",
      "language": "python",
      "name": "python3"
    },
    "language_info": {
      "codemirror_mode": {
        "name": "ipython",
        "version": 3
      },
      "file_extension": ".py",
      "mimetype": "text/x-python",
      "name": "python",
      "nbconvert_exporter": "python",
      "pygments_lexer": "ipython3",
      "version": "3.6.2"
    },
    "colab": {
      "name": "Copy of ICA2_DataMining.ipynb",
      "provenance": [],
      "collapsed_sections": [],
      "include_colab_link": true
    }
  },
  "cells": [
    {
      "cell_type": "markdown",
      "metadata": {
        "id": "view-in-github",
        "colab_type": "text"
      },
      "source": [
        "<a href=\"https://colab.research.google.com/github/jotsap/DS7331/blob/master/Copy_of_ICA2_DataMining.ipynb\" target=\"_parent\"><img src=\"https://colab.research.google.com/assets/colab-badge.svg\" alt=\"Open In Colab\"/></a>"
      ]
    },
    {
      "cell_type": "code",
      "metadata": {
        "id": "TOGK_m_oJ-5S",
        "colab_type": "code",
        "outputId": "8e6ceb1d-7507-4339-b497-cc5013355d17",
        "colab": {
          "base_uri": "https://localhost:8080/",
          "height": 17
        }
      },
      "source": [
        "#  Ebnable HTML/CSS \n",
        "from IPython.core.display import HTML\n",
        "HTML(\"<link href='https://fonts.googleapis.com/css?family=Passion+One' rel='stylesheet' type='text/css'><style>div.attn { font-family: 'Helvetica Neue'; font-size: 30px; line-height: 40px; color: #FFFFFF; text-align: center; margin: 30px 0; border-width: 10px 0; border-style: solid; border-color: #5AAAAA; padding: 30px 0; background-color: #DDDDFF; }hr { border: 0; background-color: #ffffff; border-top: 1px solid black; }hr.major { border-top: 10px solid #5AAA5A; }hr.minor { border: none; background-color: #ffffff; border-top: 5px dotted #CC3333; }div.bubble { width: 65%; padding: 20px; background: #DDDDDD; border-radius: 15px; margin: 0 auto; font-style: italic; color: #f00; }em { color: #AAA; }div.c1{visibility:hidden;margin:0;height:0;}div.note{color:red;}</style>\")"
      ],
      "execution_count": 1,
      "outputs": [
        {
          "output_type": "execute_result",
          "data": {
            "text/html": [
              "<link href='https://fonts.googleapis.com/css?family=Passion+One' rel='stylesheet' type='text/css'><style>div.attn { font-family: 'Helvetica Neue'; font-size: 30px; line-height: 40px; color: #FFFFFF; text-align: center; margin: 30px 0; border-width: 10px 0; border-style: solid; border-color: #5AAAAA; padding: 30px 0; background-color: #DDDDFF; }hr { border: 0; background-color: #ffffff; border-top: 1px solid black; }hr.major { border-top: 10px solid #5AAA5A; }hr.minor { border: none; background-color: #ffffff; border-top: 5px dotted #CC3333; }div.bubble { width: 65%; padding: 20px; background: #DDDDDD; border-radius: 15px; margin: 0 auto; font-style: italic; color: #f00; }em { color: #AAA; }div.c1{visibility:hidden;margin:0;height:0;}div.note{color:red;}</style>"
            ],
            "text/plain": [
              "<IPython.core.display.HTML object>"
            ]
          },
          "metadata": {
            "tags": []
          },
          "execution_count": 1
        }
      ]
    },
    {
      "cell_type": "markdown",
      "metadata": {
        "id": "O9bwf6PsJ-5a",
        "colab_type": "text"
      },
      "source": [
        "\n",
        "___\n",
        "Enter Team Member Names here (double click to edit):\n",
        "\n",
        "- Name 1: Amber Burnett \n",
        "- Name 2: Jeremy Otsap \n",
        "- Name 3: Lance Dacy \n",
        "- Name 4: Shawn Jung \n",
        "\n"
      ]
    },
    {
      "cell_type": "markdown",
      "metadata": {
        "id": "zreAp-YAJ-5c",
        "colab_type": "text"
      },
      "source": [
        "________\n",
        "<a id=\"top\"></a>\n",
        "# Live Session Assignment Two\n",
        "In the following assignment you will be asked to fill in python code and derivations for a number of different problems. Please read all instructions carefully and turn in the rendered notebook (.ipynb file, remember to save it!!) or HTML of the rendered notebook before the end of class.\n",
        "\n",
        "## Contents\n",
        "* <a href=\"#Loading\">Loading the Classification Data</a>\n",
        "* <a href=\"#using_trees\">Using Decision Trees - Gini</a>\n",
        "* <a href=\"#entropy\">Using Decision Trees - Entropy</a>\n",
        "* <a href=\"#multi\">Multi-way Splits</a>\n",
        "* <a href=\"#sklearn\">Decision Trees in Scikit-Learn</a>\n",
        "\n",
        "________________________________________________________________________________________________________\n",
        "<a id=\"Loading\"></a>\n",
        "<a href=\"#top\">Back to Top</a>\n",
        "## Loading the Classification Data\n",
        "Please run the following code to read in the \"digits\" dataset from sklearn's data loading module. This is identical to the first in class assignment for loading the data into matrices. `ds.data` is a matrix of feature values and `ds.target` is a column vector of the class output (in our case, the hand written digit we want to classify). Each class is a number (0 through 9) that we want to classify as one of ten hand written digits. \n",
        "\n"
      ]
    },
    {
      "cell_type": "code",
      "metadata": {
        "id": "FtBtCJLUJ-5d",
        "colab_type": "code",
        "outputId": "d012f632-530b-4f0c-8438-2ba9fc8dd71c",
        "colab": {
          "base_uri": "https://localhost:8080/",
          "height": 70
        }
      },
      "source": [
        "from sklearn.datasets import load_digits\n",
        "import numpy as np\n",
        "from __future__ import print_function\n",
        "\n",
        "ds = load_digits()\n",
        "\n",
        "# this holds the continuous feature data\n",
        "print('features shape:', ds.data.shape) # there are 1797 instances and 64 features per instance\n",
        "print('target shape:', ds.target.shape )\n",
        "print('range of target:', np.min(ds.target),np.max(ds.target))"
      ],
      "execution_count": 2,
      "outputs": [
        {
          "output_type": "stream",
          "text": [
            "features shape: (1797, 64)\n",
            "target shape: (1797,)\n",
            "range of target: 0 9\n"
          ],
          "name": "stdout"
        }
      ]
    },
    {
      "cell_type": "markdown",
      "metadata": {
        "id": "v3JSFoRNJ-5g",
        "colab_type": "text"
      },
      "source": [
        "________________________________________________________________________________________________________\n",
        "<a id=\"using_trees\"></a>\n",
        "<a href=\"#top\">Back to Top</a>\n",
        "## Using Decision Trees\n",
        "In the videos, we talked about the splitting conditions for different attributes. Specifically, we discussed the number of ways in which it is possible to split a node, depending on the attribute types. To understand the possible splits, we need to understand the attributes. For the question below, you might find the description in the `ds['DESCR']` field to be useful. You can see the field using `print(ds['DESCR'])`\n",
        "\n",
        "**Question 1:** For the digits dataset, what are the type(s) of the attributes? How many attributes are there? What do they represent?\n"
      ]
    },
    {
      "cell_type": "code",
      "metadata": {
        "id": "5qhqfJI1J-5h",
        "colab_type": "code",
        "outputId": "ebad6a74-0e7f-4dd1-805f-fbe24c3a862d",
        "colab": {
          "base_uri": "https://localhost:8080/",
          "height": 835
        }
      },
      "source": [
        "## Enter your comments here\n",
        "\n",
        "print(ds['DESCR'])\n",
        "# Each attribute is a pixel from an 8x8 pixel array. They are images of handwritten digits. \n",
        "# The features are each pixel location in the 8x8 grid, thus there are 64 of them. The pixels are encoded as \n",
        "# 16 bit data, but are best considered as continuous attributes because they can take on many\n",
        "# distinct values. \n",
        " \n",
        "\n",
        "## Enter comments here"
      ],
      "execution_count": 3,
      "outputs": [
        {
          "output_type": "stream",
          "text": [
            ".. _digits_dataset:\n",
            "\n",
            "Optical recognition of handwritten digits dataset\n",
            "--------------------------------------------------\n",
            "\n",
            "**Data Set Characteristics:**\n",
            "\n",
            "    :Number of Instances: 5620\n",
            "    :Number of Attributes: 64\n",
            "    :Attribute Information: 8x8 image of integer pixels in the range 0..16.\n",
            "    :Missing Attribute Values: None\n",
            "    :Creator: E. Alpaydin (alpaydin '@' boun.edu.tr)\n",
            "    :Date: July; 1998\n",
            "\n",
            "This is a copy of the test set of the UCI ML hand-written digits datasets\n",
            "https://archive.ics.uci.edu/ml/datasets/Optical+Recognition+of+Handwritten+Digits\n",
            "\n",
            "The data set contains images of hand-written digits: 10 classes where\n",
            "each class refers to a digit.\n",
            "\n",
            "Preprocessing programs made available by NIST were used to extract\n",
            "normalized bitmaps of handwritten digits from a preprinted form. From a\n",
            "total of 43 people, 30 contributed to the training set and different 13\n",
            "to the test set. 32x32 bitmaps are divided into nonoverlapping blocks of\n",
            "4x4 and the number of on pixels are counted in each block. This generates\n",
            "an input matrix of 8x8 where each element is an integer in the range\n",
            "0..16. This reduces dimensionality and gives invariance to small\n",
            "distortions.\n",
            "\n",
            "For info on NIST preprocessing routines, see M. D. Garris, J. L. Blue, G.\n",
            "T. Candela, D. L. Dimmick, J. Geist, P. J. Grother, S. A. Janet, and C.\n",
            "L. Wilson, NIST Form-Based Handprint Recognition System, NISTIR 5469,\n",
            "1994.\n",
            "\n",
            ".. topic:: References\n",
            "\n",
            "  - C. Kaynak (1995) Methods of Combining Multiple Classifiers and Their\n",
            "    Applications to Handwritten Digit Recognition, MSc Thesis, Institute of\n",
            "    Graduate Studies in Science and Engineering, Bogazici University.\n",
            "  - E. Alpaydin, C. Kaynak (1998) Cascading Classifiers, Kybernetika.\n",
            "  - Ken Tang and Ponnuthurai N. Suganthan and Xi Yao and A. Kai Qin.\n",
            "    Linear dimensionalityreduction using relevance weighted LDA. School of\n",
            "    Electrical and Electronic Engineering Nanyang Technological University.\n",
            "    2005.\n",
            "  - Claudio Gentile. A New Approximate Maximal Margin Classification\n",
            "    Algorithm. NIPS. 2000.\n"
          ],
          "name": "stdout"
        }
      ]
    },
    {
      "cell_type": "markdown",
      "metadata": {
        "id": "HB8r6oqKJ-5k",
        "colab_type": "text"
      },
      "source": [
        "___\n",
        "## Using the gini coefficient\n",
        "We talked about the gini index in the videos.  The gini coefficient for a **given split** is given by:\n",
        "$$Gini=\\sum_{t=1}^T \\frac{n_t}{N}gini(t)$$\n",
        "where $T$ is the total number of splits (2 for binary attributes), $n_t$ is the number of instances in node $t$ after splitting, and $N$ is the total number of instances in the parent node. $gini(t)$ is the **gini index for each individual node that is created by the split** and is given by:\n",
        "$$gini(t)=1-\\sum_{j=0}^{C-1} p(j|t)^2$$\n",
        "where $C$ is the total number of possible classes and $p(j|t)$ is the probability of class $j$ in node $t$ (i.e., $n_j==$ the count of instances belonging to class $j$ in node $t$, normalized by the total number of instances in node $t$).\n",
        "$$ p(j|t) = \\frac{n_j}{n_t}$$ \n",
        "\n",
        "For the given dataset, $gini(t)$ has been programmed for you in the function `gini_index`. \n",
        "\n",
        "* `def gini_index(classes_in_split):`\n",
        " * To use the function, pass in a `numpy` array of the class labels for a node as (i.e., pass in the rows from `ds.target` that make up a node in the tree) and the gini will be returned for that node. \n"
      ]
    },
    {
      "cell_type": "code",
      "metadata": {
        "id": "Xme-Ss1UJ-5n",
        "colab_type": "code",
        "colab": {}
      },
      "source": [
        "# compute the gini of several examples for the starting dataset\n",
        "# This function \"gini_index\" is written for you. Once you run this block, you \n",
        "#   will have access to the function for the notebook. You do not need to know \n",
        "#   how this function works--only what it returns \n",
        "# This function returns the gini index for an array of classes in a node.\n",
        "def gini_index(classes_in_split):\n",
        "    # pay no attention to this code in the function-- it just computes the gini for a given split \n",
        "    classes_in_split = np.reshape(classes_in_split,(len(classes_in_split),-1))\n",
        "    unique_classes = np.unique(classes_in_split)\n",
        "    gini = 1\n",
        "    for c in unique_classes:\n",
        "        gini -= (np.sum(classes_in_split==c) / float(len(classes_in_split)))**2\n",
        "        \n",
        "    return gini"
      ],
      "execution_count": 0,
      "outputs": []
    },
    {
      "cell_type": "markdown",
      "metadata": {
        "id": "-coHHvR2J-5q",
        "colab_type": "text"
      },
      "source": [
        "In the example below, the function is used calculate the gini for splitting the dataset on feature 28, with value 2.5. In this example, we need to create two separate tree nodes: the first node has all the `ds.target` labels when feature 28 is greater than 2.5, the second node has all the rows from `ds.target` where feature 28 is less than 2.5. The steps are outlined below. **Read this carefully to understand what the code does below in the block following this.**\n",
        "- Feature 28 is saved into a separate variable `feature28 = ds.data[:,28]`\n",
        "- First all the target classes for the first node are calculated using `numpy` indexing `ds.target[feature28>2.5]` \n",
        " - Note: this grabs all the rows in `ds.target` (the classes) which have feature 28 greater than 2.5 (similar to indexing in pandas)\n",
        "- Second, those classes are passed into the function to get the gini for the right node in this split (i.e., feature 28 being greater than the threshold 2.5). \n",
        " - `gini_r = gini_index(ds.target[feature28>2.5])`\n",
        "- Third, the gini is calculated for the left node in the tree. This grabs only the rows in `ds.target` where feature 28 is less than 2.5.\n",
        "     - `gini_l = gini_index(ds.target[feature28<=2.5])`\n",
        "- Combining the gini indices is left as an exercise in the next section"
      ]
    },
    {
      "cell_type": "code",
      "metadata": {
        "id": "Nt86-tRsJ-5r",
        "colab_type": "code",
        "outputId": "1f879318-4c28-4dba-d5d5-521092f83f8f",
        "colab": {
          "base_uri": "https://localhost:8080/",
          "height": 52
        }
      },
      "source": [
        "#==========================Use the gini_index Example===============\n",
        "# get the value for this feature as a column vector \n",
        "# (this is like grabbing one column of the record table)\n",
        "feature28 = ds.data[:,28]\n",
        "\n",
        "# if we split on the value of 2.5, then this is the gini for each resulting node:\n",
        "gini_r = gini_index(ds.target[feature28>2.5]) # just like in pandas, we are sending in the rows where feature28>2.5\n",
        "gini_l = gini_index(ds.target[feature28<=2.5]) # and sending the rows where feature28<=2.5\n",
        "\n",
        "# compute gini example. This splits on attribute '28' with a value of 2.5\n",
        "print('gini for right node of split:', gini_r)\n",
        "print('gini for left node of split:', gini_l)"
      ],
      "execution_count": 7,
      "outputs": [
        {
          "output_type": "stream",
          "text": [
            "gini for right node of split: 0.8845857867667073\n",
            "gini for left node of split: 0.7115407566535388\n"
          ],
          "name": "stdout"
        }
      ]
    },
    {
      "cell_type": "markdown",
      "metadata": {
        "id": "TnjFzh3tJ-5v",
        "colab_type": "text"
      },
      "source": [
        "**Question 2:** Now, using the above values `gini_r` and `gini_l`. Calculate the combined Gini for the entire split. You will need to write the weighted summation (based upon the number of instances inside each node). To count the number of instances greater than a value using numpy, you can use broadcasting, which is a special way of indexing into a numpy array. For example, the code `some_array>5` will return a new numpy array of true/false elements. It is the same size as `some_array` and is marked true where the array is greater than `5`, and false otherwise. By taking the `sum` of this array, we can count how many times `some_array` is greater than `5`. \n",
        "\n",
        "`counts = sum(some_array>5)` \n",
        " \n",
        "You will need to use this syntax to count the values in each node as a result of splitting.  "
      ]
    },
    {
      "cell_type": "code",
      "metadata": {
        "id": "K12OQ8hlJ-5w",
        "colab_type": "code",
        "outputId": "98dd12a9-7b06-409a-9e04-39a95b7e44e1",
        "colab": {
          "base_uri": "https://localhost:8080/",
          "height": 52
        }
      },
      "source": [
        "# Enter your code here\n",
        "\n",
        "# we need to make a weighted sum of the gini indices\n",
        "T = 10\n",
        "num_instances_r = sum(feature28>T)\n",
        "num_instances_l = sum(feature28<=T)\n",
        "\n",
        "gini_total = (num_instances_r*gini_index(ds.target[feature28>T]) + \n",
        "              num_instances_l*gini_index(ds.target[feature28<=T])) / float(len(ds.target))\n",
        "\n",
        "print('total gini for new threshold of 10.0 is:', gini_total)\n",
        "print('This is larger than our previous gini and lower is better. Therefore, 2.5 is more optimal.')\n",
        "\n",
        "# Enter your code here"
      ],
      "execution_count": 8,
      "outputs": [
        {
          "output_type": "stream",
          "text": [
            "total gini for new threshold of 10.0 is: 0.8636111743234274\n",
            "This is larger than our previous gini and lower is better. Therefore, 2.5 is more optimal.\n"
          ],
          "name": "stdout"
        }
      ]
    },
    {
      "cell_type": "markdown",
      "metadata": {
        "id": "_5W4l2-qJ-5z",
        "colab_type": "text"
      },
      "source": [
        "___\n",
        "## Start of Live Session Coding\n",
        "\n",
        "**Question 3:** Now we want to know which is a better split:\n",
        "- `feature28` split on a value of `2.5`  \n",
        "- `feature28` split on a value of `10`.  \n",
        "\n",
        "Enter your code to find the total gini of splitting on the threshold of 10 and compare it to the total gini of splitting on threshold of 2.5 (for feature 28 only). According to gini, which threshold is better for spliting on feature 28, `threshold=2.5` or `threshold=10.0`?"
      ]
    },
    {
      "cell_type": "code",
      "metadata": {
        "id": "Ckwtw711J-50",
        "colab_type": "code",
        "outputId": "8f3ac2de-2fe9-4a42-ec66-cf67f26be04d",
        "colab": {
          "base_uri": "https://localhost:8080/",
          "height": 52
        }
      },
      "source": [
        "# Enter your code here\n",
        "\n",
        "T = [2.5, 10] \n",
        "gini_result = []\n",
        "\n",
        "for threshold_value in T:\n",
        "  num_instances_r = sum(feature28>threshold_value)\n",
        "  num_instances_l = sum(feature28<=threshold_value)\n",
        "  gini_total = (num_instances_r*gini_index(ds.target[feature28>threshold_value]) + \n",
        "                num_instances_l*gini_index(ds.target[feature28<=threshold_value])) / float(len(ds.target))\n",
        "  gini_result.append(gini_total)\n",
        "\n",
        "\n",
        "# Enter your code here\n",
        "\n",
        "print('The total gini of the split for a threshold of 10 is:',gini_result[1])\n",
        "print('This is not better than the split on 2.5:', gini_result[0])"
      ],
      "execution_count": 11,
      "outputs": [
        {
          "output_type": "stream",
          "text": [
            "The total gini of the split for a threshold of 10 is: 0.8636111743234274\n",
            "This is not better than the split on 2.5 0.8461634345045179\n"
          ],
          "name": "stdout"
        }
      ]
    },
    {
      "cell_type": "markdown",
      "metadata": {
        "id": "Kz4Eu6mcJ-54",
        "colab_type": "text"
      },
      "source": [
        "___\n",
        "<a id=\"entropy\"></a>\n",
        "<a href=\"#top\">Back to Top</a>\n",
        "## Entropy based splitting\n",
        "We discussed entropy as well in the video as another means of splitting. We calculated entropy for a node $t$ by:\n",
        "$$ Entropy(t) = -\\sum p(j|t) \\log p(j|t) $$\n",
        "where $p(j|t)$ is the same as above. To combine Entropy measures from a set of nodes, t = {1,...,T} we use: \n",
        "$$Entropy_{split}=\\sum_{t=1}^T \\frac{n_t}{N}Entropy(t)$$ \n",
        "where $n_t$ and $N$ are the same as defined above for the $Gini$. Information gain is calculated by subtracting the Entropy of the split from the Entropy of the parent node before splitting:\n",
        "$$InfoGain = Entropy(p)-Entropy_{split}$$\n",
        "where $p$ is the parent node before splitting. You are given an equation for calculating the $Entropy(t)$ of  node $t$. It works exactly like the `gini_index` function above, but is named `entropy_value` and returns the entropy for a node. You simply send in an array of the feature values for the node you want to calculate the entropy value for. \n"
      ]
    },
    {
      "cell_type": "code",
      "metadata": {
        "id": "ic2AzjQoJ-55",
        "colab_type": "code",
        "colab": {}
      },
      "source": [
        "def entropy_value(classes_in_split):\n",
        "    # pay no attention to this code -- it just computes the gini for a given split \n",
        "    classes_in_split = np.reshape(classes_in_split,(len(classes_in_split),-1))\n",
        "    unique_classes = np.unique(classes_in_split)\n",
        "    ent = 0\n",
        "    for c in unique_classes:\n",
        "        p = (np.sum(classes_in_split==c) / float(len(classes_in_split)))\n",
        "        ent += p * np.log(p)\n",
        "        \n",
        "    return -ent"
      ],
      "execution_count": 0,
      "outputs": []
    },
    {
      "cell_type": "code",
      "metadata": {
        "id": "CFmIYDCzJ-59",
        "colab_type": "code",
        "outputId": "0c5869e5-63f1-4fd7-aa0b-fe078ea44ea3",
        "colab": {
          "base_uri": "https://localhost:8080/",
          "height": 52
        }
      },
      "source": [
        "ent_r = entropy_value(ds.target[feature28>2.5])\n",
        "ent_l = entropy_value(ds.target[feature28<=2.5])\n",
        "\n",
        "# compute entropy example. This splits on attribute '28' with a value of 2.5\n",
        "print('entropy for right node of split:', ent_r)\n",
        "print('entropy for left node of split:', ent_l)"
      ],
      "execution_count": 13,
      "outputs": [
        {
          "output_type": "stream",
          "text": [
            "entropy for right node of split: 2.1836975378213057\n",
            "entropy for left node of split: 1.4898881412786364\n"
          ],
          "name": "stdout"
        }
      ]
    },
    {
      "cell_type": "markdown",
      "metadata": {
        "id": "sS0-5nW3J-5_",
        "colab_type": "text"
      },
      "source": [
        "___\n",
        "**Question 4:** Calculate the **information gain** of the split when the threshold is 2.5 on `feature28`. What is the value of the information gain?"
      ]
    },
    {
      "cell_type": "code",
      "metadata": {
        "id": "ODEn6rGFJ-6A",
        "colab_type": "code",
        "outputId": "82f60e63-1d75-4a20-e36c-541727c7c663",
        "colab": {
          "base_uri": "https://localhost:8080/",
          "height": 52
        }
      },
      "source": [
        "# Enter your code here\n",
        "\n",
        "T = [2.5] \n",
        "entropy_result = []\n",
        "\n",
        "for threshold_value in T:\n",
        "  num_instances_r = sum(feature28>threshold_value)\n",
        "  num_instances_l = sum(feature28<=threshold_value)\n",
        "  entropy_total = (num_instances_r*entropy_value(ds.target[feature28>threshold_value]) + \n",
        "                num_instances_l*entropy_value(ds.target[feature28<=threshold_value])) / float(len(ds.target))\n",
        "  entropy_result.append(entropy_total)\n",
        "\n",
        "# Information of a parent\n",
        "entropy_parent = entropy_value(feature28)\n",
        "#print(entropy_parent)\n",
        "# Enter your code here\n",
        "\n",
        "print('The information gain of the split for threshold of 2.5:',entropy_parent - entropy_result[0])"
      ],
      "execution_count": 19,
      "outputs": [
        {
          "output_type": "stream",
          "text": [
            "2.4088125548756216\n",
            "The information gain of the split for threshold of 2.5: 0.3791661852349084\n"
          ],
          "name": "stdout"
        }
      ]
    },
    {
      "cell_type": "markdown",
      "metadata": {
        "id": "FXKXqS72J-6E",
        "colab_type": "text"
      },
      "source": [
        "**Question 5:** What is the information gain if the threshold is 10.0 on `feature28`? According to information gain, is it better to split on a threshold of 2.5 or 10? Does entropy give the same decision as gini for this example?"
      ]
    },
    {
      "cell_type": "code",
      "metadata": {
        "id": "eENihzvsJ-6F",
        "colab_type": "code",
        "outputId": "c5b01ec8-0d2d-4641-9a7b-9319a0f51ca9",
        "colab": {
          "base_uri": "https://localhost:8080/",
          "height": 70
        }
      },
      "source": [
        "# Enter your code here\n",
        "\n",
        "T = [2.5, 10] \n",
        "entropy_result = []\n",
        "# Information of a parent\n",
        "entropy_parent = entropy_value(feature28)\n",
        "\n",
        "for threshold_value in T:\n",
        "  num_instances_r = sum(feature28>threshold_value)\n",
        "  num_instances_l = sum(feature28<=threshold_value)\n",
        "  entropy_total = (num_instances_r*entropy_value(ds.target[feature28>threshold_value]) + \n",
        "                num_instances_l*entropy_value(ds.target[feature28<=threshold_value])) / float(len(ds.target))\n",
        "  entropy_result.append(entropy_total)\n",
        "\n",
        "\n",
        "print('The information gain of the split for threshold of 10:',entropy_parent - entropy_result[1])\n",
        "print('This is not better than the split on 2.5', entropy_parent - entropy_result[0])\n",
        "print('This is the same as gini')\n",
        "\n",
        "# Is there any significance when comparing different entropy values? (To Professor)"
      ],
      "execution_count": 21,
      "outputs": [
        {
          "output_type": "stream",
          "text": [
            "The information gain of the split for threshold of 10: 0.3158847109514573\n",
            "This is not better than the split on 2.5 0.3791661852349084\n",
            "This is the same as gini\n"
          ],
          "name": "stdout"
        }
      ]
    },
    {
      "cell_type": "markdown",
      "metadata": {
        "id": "rZpsnsg3J-6I",
        "colab_type": "text"
      },
      "source": [
        "___\n",
        "<a id=\"multi\"></a>\n",
        "<a href=\"#top\">Back to Top</a>\n",
        "## Information gain and multi-way splitting\n",
        "Now assume that we can use not just a binary split, but a three way split. \n",
        "\n",
        "**Question 6** What is the information gain if we split feature28 on two thesholds (three separate nodes corresponding to three branches from one node) \n",
        "- node left: `feature28<2.5`, \n",
        "- node middle: `2.5<=feature28<10`, and \n",
        "- node right: `10<=feature28`? \n",
        "\n",
        "Is the information gain better? \n",
        "\n",
        "***Note***: You can index into a `numpy` array for the middle node with the following notation: `some_array[(2.5<=feature28) & (feature28<10.0)]`"
      ]
    },
    {
      "cell_type": "code",
      "metadata": {
        "id": "vwX_XHgXJ-6J",
        "colab_type": "code",
        "outputId": "24d03794-cd15-496f-912b-c0ff8b3c1a6a",
        "colab": {
          "base_uri": "https://localhost:8080/",
          "height": 35
        }
      },
      "source": [
        "# Enter your code here\n",
        "\n",
        "T = [2.5, 10] \n",
        "entropy_result = []\n",
        "# Information of a parent\n",
        "entropy_parent = entropy_value(feature28)\n",
        "\n",
        "num_instances_r = sum(feature28>=10)\n",
        "num_instances_m = sum((feature28>=2.5) & (feature28<10))\n",
        "num_instances_l = sum(feature28<2.5)\n",
        "entropy_total = (num_instances_r*entropy_value(ds.target[feature28>=10]) + num_instances_m*entropy_value(ds.target[((feature28>=2.5) & (feature28<10))]) + \n",
        "                num_instances_l*entropy_value(ds.target[feature28<2.5])) / float(len(ds.target))\n",
        "#  entropy_result.append(entropy_total)\n",
        "\n",
        "# Enter your code here\n",
        "print('The information gain of the three way split is:',entropy_parent - entropy_total)"
      ],
      "execution_count": 33,
      "outputs": [
        {
          "output_type": "stream",
          "text": [
            "The information gain of the three way split is: 0.4235224338200836\n"
          ],
          "name": "stdout"
        }
      ]
    },
    {
      "cell_type": "markdown",
      "metadata": {
        "id": "WmdZe1puJ-6N",
        "colab_type": "text"
      },
      "source": [
        "**Question 7**: Should we normalize the quantity that we just calculated if we want to compare it to the information gain of a binary split? Why or Why not?"
      ]
    },
    {
      "cell_type": "code",
      "metadata": {
        "id": "F2jZWc0MJ-6O",
        "colab_type": "code",
        "colab": {}
      },
      "source": [
        "# Enter your comments here\n",
        "\n",
        "# We need to figure out why the anser is Yes\n",
        "\n",
        "\n",
        "# Enter your comments here"
      ],
      "execution_count": 0,
      "outputs": []
    },
    {
      "cell_type": "markdown",
      "metadata": {
        "id": "yPgywS_gJ-6Q",
        "colab_type": "text"
      },
      "source": [
        "___\n",
        "<a id=\"sklearn\"></a>\n",
        "<a href=\"#top\">Back to Top</a>\n",
        "## Decision Trees in scikit-learn\n",
        "Scikit-learn also has an implementation of decision trees. Its available here:\n",
        "- http://scikit-learn.org/stable/modules/generated/sklearn.tree.DecisionTreeClassifier.html#sklearn.tree.DecisionTreeClassifier\n",
        "\n",
        "**Question 8**: What algorithm does scikit-learn use for creating decision trees (i.e., ID3, C4.5, C5.0, CART, MARS, CHAID, etc.)? "
      ]
    },
    {
      "cell_type": "code",
      "metadata": {
        "id": "qcbkjrzDJ-6R",
        "colab_type": "code",
        "colab": {}
      },
      "source": [
        "# Enter your answer here\n",
        "# CART \n",
        "\n",
        "# Enter your answer here"
      ],
      "execution_count": 0,
      "outputs": []
    },
    {
      "cell_type": "markdown",
      "metadata": {
        "id": "mv1oVQ26J-6U",
        "colab_type": "text"
      },
      "source": [
        "___\n",
        "**Question 9**: Using the documentation, use scikit-learn to train a decision tree on the digits data. Calculate the accuracy on the training data. What is the accuracy? Did you expect the decision tree to have this kind of accuracy? Why or Why not?"
      ]
    },
    {
      "cell_type": "code",
      "metadata": {
        "id": "lw1R7YQyJ-6V",
        "colab_type": "code",
        "outputId": "fe7dac24-777b-4bf9-a88d-ab72b576425c",
        "colab": {
          "base_uri": "https://localhost:8080/",
          "height": 141
        }
      },
      "source": [
        "# use scikit learn to train a decision tree\n",
        "from sklearn.tree import DecisionTreeClassifier\n",
        "from sklearn.model_selection import StratifiedShuffleSplit \n",
        "cv = StratifiedShuffleSplit(n_splits=1, train_size=0.5)\n",
        "\n",
        "# enter your code below here to train and predict on the same data\n",
        "X = ds.data \n",
        "y = ds.target\n",
        "# enter your code above here\n",
        "from sklearn.tree import DecisionTreeClassifier \n",
        "from sklearn import metrics as mt \n",
        "\n",
        "dt_clf1 = DecisionTreeClassifier(criterion='gini') \n",
        "dt_clf2 = DecisionTreeClassifier(criterion='entropy') \n",
        "from sklearn.metrics import accuracy_score \n",
        "\n",
        "# enter your code below here to calculate accuracy\n",
        "for train, test in cv.split(X, y):\n",
        "    %time dt_clf1.fit(X[train], y[train])\n",
        "    yhat = dt_clf1.predict(X[test])\n",
        "    print('accuracy:', mt.accuracy_score(y[test], yhat))\n",
        "\n",
        "for train, test in cv.split(X, y):\n",
        "    %time dt_clf2.fit(X[train], y[train])\n",
        "    yhat = dt_clf2.predict(X[test])\n",
        "    print('accuracy:', mt.accuracy_score(y[test], yhat))\n",
        "\n",
        "print('I did not expect entropy critierion works better than gini')\n",
        "\n"
      ],
      "execution_count": 38,
      "outputs": [
        {
          "output_type": "stream",
          "text": [
            "CPU times: user 15.1 ms, sys: 125 µs, total: 15.2 ms\n",
            "Wall time: 16 ms\n",
            "accuracy: 0.8097886540600667\n",
            "CPU times: user 20.6 ms, sys: 0 ns, total: 20.6 ms\n",
            "Wall time: 20.6 ms\n",
            "accuracy: 0.8320355951056729\n",
            "I did not expect entropy critierion works better than gini\n"
          ],
          "name": "stdout"
        }
      ]
    },
    {
      "cell_type": "markdown",
      "metadata": {
        "id": "gUV9O2TIJ-6Y",
        "colab_type": "text"
      },
      "source": [
        "___\n",
        "**Question 10**: Look at the other input parameters to the function `DecisionTreeClassifier` could any of them be used to help prevent the decision tree from overlearning on the data? \n",
        "\n",
        "Which variables might we use to control overfitting and how (explain why it might help to stop overfitting)?"
      ]
    },
    {
      "cell_type": "code",
      "metadata": {
        "id": "ZFTFOBbWJ-6Y",
        "colab_type": "code",
        "colab": {
          "base_uri": "https://localhost:8080/",
          "height": 70
        },
        "outputId": "ff190dd3-7d8d-4c4f-f947-8064a340bb17"
      },
      "source": [
        "# After reiterating multiple times, we prevent overfitting.\n",
        "# The accuracy remained 82% though we applied such measures as the maximum depth or minimum samples per split. \n",
        "\n",
        "dt_clf3 = DecisionTreeClassifier(criterion='gini', max_depth=10, min_samples_split=2, min_samples_leaf=2) \n",
        "from sklearn.metrics import accuracy_score \n",
        "\n",
        "# enter your code below here to calculate accuracy\n",
        "for train, test in cv.split(X, y):\n",
        "    %time dt_clf3.fit(X[train], y[train])\n",
        "    yhat = dt_clf3.predict(X[test])\n",
        "    print('accuracy:', mt.accuracy_score(y[test], yhat))\n",
        "\n"
      ],
      "execution_count": 69,
      "outputs": [
        {
          "output_type": "stream",
          "text": [
            "CPU times: user 14.1 ms, sys: 7 µs, total: 14.1 ms\n",
            "Wall time: 14.2 ms\n",
            "accuracy: 0.8298109010011123\n"
          ],
          "name": "stdout"
        }
      ]
    },
    {
      "cell_type": "markdown",
      "metadata": {
        "id": "dXwT0CSWJ-6c",
        "colab_type": "text"
      },
      "source": [
        "________________________________________________________________________________________________________\n",
        "\n",
        "That's all! Please **upload your rendered notebook** and please include **team member names** in the notebook submission. Also please remember to save the notebook before uploading."
      ]
    },
    {
      "cell_type": "code",
      "metadata": {
        "id": "m3FQYrCiJ-6d",
        "colab_type": "code",
        "colab": {}
      },
      "source": [
        ""
      ],
      "execution_count": 0,
      "outputs": []
    }
  ]
}