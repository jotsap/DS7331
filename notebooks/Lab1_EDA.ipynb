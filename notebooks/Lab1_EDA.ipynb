{
 "cells": [
  {
   "cell_type": "code",
   "execution_count": null,
   "metadata": {},
   "outputs": [],
   "source": [
    "**Data Exploration**  \n",
    "First we need to load the data and some initial exploration. Note that R automatically sets most of these as factors"
   ]
  },
  {
   "cell_type": "code",
   "execution_count": 10,
   "metadata": {},
   "outputs": [
    {
     "name": "stdout",
     "output_type": "stream",
     "text": [
      "'data.frame':\t7043 obs. of  21 variables:\n",
      " $ customerID      : Factor w/ 7043 levels \"0002-ORFBO\",\"0003-MKNFE\",..: 5376 3963 2565 5536 6512 6552 1003 4771 5605 4535 ...\n",
      " $ gender          : Factor w/ 2 levels \"Female\",\"Male\": 1 2 2 2 1 1 2 1 1 2 ...\n",
      " $ SeniorCitizen   : int  0 0 0 0 0 0 0 0 0 0 ...\n",
      " $ Partner         : Factor w/ 2 levels \"No\",\"Yes\": 2 1 1 1 1 1 1 1 2 1 ...\n",
      " $ Dependents      : Factor w/ 2 levels \"No\",\"Yes\": 1 1 1 1 1 1 2 1 1 2 ...\n",
      " $ tenure          : int  1 34 2 45 2 8 22 10 28 62 ...\n",
      " $ PhoneService    : Factor w/ 2 levels \"No\",\"Yes\": 1 2 2 1 2 2 2 1 2 2 ...\n",
      " $ MultipleLines   : Factor w/ 3 levels \"No\",\"No phone service\",..: 2 1 1 2 1 3 3 2 3 1 ...\n",
      " $ InternetService : Factor w/ 3 levels \"DSL\",\"Fiber optic\",..: 1 1 1 1 2 2 2 1 2 1 ...\n",
      " $ OnlineSecurity  : Factor w/ 3 levels \"No\",\"No internet service\",..: 1 3 3 3 1 1 1 3 1 3 ...\n",
      " $ OnlineBackup    : Factor w/ 3 levels \"No\",\"No internet service\",..: 3 1 3 1 1 1 3 1 1 3 ...\n",
      " $ DeviceProtection: Factor w/ 3 levels \"No\",\"No internet service\",..: 1 3 1 3 1 3 1 1 3 1 ...\n",
      " $ TechSupport     : Factor w/ 3 levels \"No\",\"No internet service\",..: 1 1 1 3 1 1 1 1 3 1 ...\n",
      " $ StreamingTV     : Factor w/ 3 levels \"No\",\"No internet service\",..: 1 1 1 1 1 3 3 1 3 1 ...\n",
      " $ StreamingMovies : Factor w/ 3 levels \"No\",\"No internet service\",..: 1 1 1 1 1 3 1 1 3 1 ...\n",
      " $ Contract        : Factor w/ 3 levels \"Month-to-month\",..: 1 2 1 2 1 1 1 1 1 2 ...\n",
      " $ PaperlessBilling: Factor w/ 2 levels \"No\",\"Yes\": 2 1 2 1 2 2 2 1 2 1 ...\n",
      " $ PaymentMethod   : Factor w/ 4 levels \"Bank transfer (automatic)\",..: 3 4 4 1 3 3 2 4 3 1 ...\n",
      " $ MonthlyCharges  : num  29.9 57 53.9 42.3 70.7 ...\n",
      " $ TotalCharges    : num  29.9 1889.5 108.2 1840.8 151.7 ...\n",
      " $ Churn           : Factor w/ 2 levels \"No\",\"Yes\": 1 1 2 1 2 2 1 1 2 1 ...\n"
     ]
    }
   ],
   "source": [
    "# Data Wrangling\n",
    "library(tidyverse)\n",
    "\n",
    "# Loading file from GitHub\n",
    "train <- read.csv('https://raw.githubusercontent.com/jotsap/DS7331/master/data/churn.csv')\n",
    "str(train)\n"
   ]
  },
  {
   "cell_type": "code",
   "execution_count": null,
   "metadata": {},
   "outputs": [],
   "source": []
  }
 ],
 "metadata": {
  "kernelspec": {
   "display_name": "R",
   "language": "R",
   "name": "ir"
  },
  "language_info": {
   "codemirror_mode": "r",
   "file_extension": ".r",
   "mimetype": "text/x-r-source",
   "name": "R",
   "pygments_lexer": "r",
   "version": "3.6.1"
  }
 },
 "nbformat": 4,
 "nbformat_minor": 4
}
