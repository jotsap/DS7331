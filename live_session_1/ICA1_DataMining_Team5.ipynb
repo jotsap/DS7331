{
  "nbformat": 4,
  "nbformat_minor": 0,
  "metadata": {
    "kernelspec": {
      "display_name": "Python 3",
      "language": "python",
      "name": "python3"
    },
    "language_info": {
      "codemirror_mode": {
        "name": "ipython",
        "version": 3
      },
      "file_extension": ".py",
      "mimetype": "text/x-python",
      "name": "python",
      "nbconvert_exporter": "python",
      "pygments_lexer": "ipython3",
      "version": "3.6.2"
    },
    "colab": {
      "name": "ICA1_DataMining.ipynb",
      "provenance": [],
      "collapsed_sections": [],
      "include_colab_link": true
    }
  },
  "cells": [
    {
      "cell_type": "markdown",
      "metadata": {
        "id": "view-in-github",
        "colab_type": "text"
      },
      "source": [
        "<a href=\"https://colab.research.google.com/github/jotsap/DS7331/blob/master/live_session_1/ICA1_DataMining.ipynb\" target=\"_parent\"><img src=\"https://colab.research.google.com/assets/colab-badge.svg\" alt=\"Open In Colab\"/></a>"
      ]
    },
    {
      "cell_type": "code",
      "metadata": {
        "id": "SVL64GzAHlIO",
        "colab_type": "code",
        "outputId": "56a95084-37d1-4d0b-ae3d-f20ef7a08af9",
        "colab": {
          "base_uri": "https://localhost:8080/",
          "height": 17
        }
      },
      "source": [
        "#  Ebnable HTML/CSS \n",
        "from IPython.core.display import HTML\n",
        "HTML(\"<link href='https://fonts.googleapis.com/css?family=Passion+One' rel='stylesheet' type='text/css'><style>div.attn { font-family: 'Helvetica Neue'; font-size: 30px; line-height: 40px; color: #FFFFFF; text-align: center; margin: 30px 0; border-width: 10px 0; border-style: solid; border-color: #5AAAAA; padding: 30px 0; background-color: #DDDDFF; }hr { border: 0; background-color: #ffffff; border-top: 1px solid black; }hr.major { border-top: 10px solid #5AAA5A; }hr.minor { border: none; background-color: #ffffff; border-top: 5px dotted #CC3333; }div.bubble { width: 65%; padding: 20px; background: #DDDDDD; border-radius: 15px; margin: 0 auto; font-style: italic; color: #f00; }em { color: #AAA; }div.c1{visibility:hidden;margin:0;height:0;}div.note{color:red;}</style>\")"
      ],
      "execution_count": 0,
      "outputs": [
        {
          "output_type": "execute_result",
          "data": {
            "text/html": [
              "<link href='https://fonts.googleapis.com/css?family=Passion+One' rel='stylesheet' type='text/css'><style>div.attn { font-family: 'Helvetica Neue'; font-size: 30px; line-height: 40px; color: #FFFFFF; text-align: center; margin: 30px 0; border-width: 10px 0; border-style: solid; border-color: #5AAAAA; padding: 30px 0; background-color: #DDDDFF; }hr { border: 0; background-color: #ffffff; border-top: 1px solid black; }hr.major { border-top: 10px solid #5AAA5A; }hr.minor { border: none; background-color: #ffffff; border-top: 5px dotted #CC3333; }div.bubble { width: 65%; padding: 20px; background: #DDDDDD; border-radius: 15px; margin: 0 auto; font-style: italic; color: #f00; }em { color: #AAA; }div.c1{visibility:hidden;margin:0;height:0;}div.note{color:red;}</style>"
            ],
            "text/plain": [
              "<IPython.core.display.HTML object>"
            ]
          },
          "metadata": {
            "tags": []
          },
          "execution_count": 1
        }
      ]
    },
    {
      "cell_type": "markdown",
      "metadata": {
        "id": "dwXbFBGuHlIX",
        "colab_type": "text"
      },
      "source": [
        "___\n",
        "Enter Team Member Names here (double click to edit):\n",
        "\n",
        "- Name 1: Amber Burnett \n",
        "- Name 2: Lance Dacy \n",
        "- Name 3: Jeremy Otsap \n",
        "- Name 4: Shawn Jung\n"
      ]
    },
    {
      "cell_type": "markdown",
      "metadata": {
        "id": "oI4OuDsdHlIY",
        "colab_type": "text"
      },
      "source": [
        "# In Class Assignment One\n",
        "In the following assignment you will be asked to fill in python code and derivations for a number of different problems. Please read all instructions carefully and turn in the rendered notebook (or HTML of the rendered notebook)  before the end of class (or right after class). The initial portion of this notebook is given before class and the remainder is given during class. Please answer the initial questions before class. Once class has started you may rework your answers as a team for the initial part of the assignment. \n",
        "\n",
        "<a id=\"top\"></a>\n",
        "## Contents\n",
        "* <a href=\"#Loading\">Loading the Data</a>\n",
        "* <a href=\"#linearnumpy\">Linear Regression</a>\n",
        "* <a href=\"#sklearn\">Using Scikit Learn for Regression</a>\n",
        "* <a href=\"#classification\">Linear Classification</a>\n",
        "\n",
        "________________________________________________________________________________________________________\n",
        "\n",
        "<a id=\"Loading\"></a>\n",
        "<a href=\"#top\">Back to Top</a>\n",
        "## Loading the Data\n",
        "Please run the following code to read in the \"diabetes\" dataset from sklearn's data loading module. \n",
        "\n",
        "This will load the data into the variable `ds`. `ds` is a dictionary object with fields like `ds.data`, which is a matrix of the continuous features in the dataset. The object is not a pandas dataframe. It is a numpy matrix. Each row is a set of observed instances, each column is a different feature. It also has a field called `ds.target` that is a continuous value we are trying to predict. Each entry in `ds.target` is a label for each row of the `ds.data` matrix. "
      ]
    },
    {
      "cell_type": "code",
      "metadata": {
        "id": "evi25CT-HlIZ",
        "colab_type": "code",
        "outputId": "55d6fb87-0370-46cf-9c4e-31be6b920e88",
        "colab": {
          "base_uri": "https://localhost:8080/",
          "height": 52
        }
      },
      "source": [
        "from sklearn.datasets import load_diabetes\n",
        "import numpy as np\n",
        "from __future__ import print_function\n",
        "\n",
        "\n",
        "ds = load_diabetes()\n",
        "\n",
        "# this holds the continuous feature data\n",
        "# because ds.data is a matrix, there are some special properties we can access (like 'shape')\n",
        "print('features shape:', ds.data.shape, 'format is:', ('rows','columns')) # there are 442 instances and 10 features per instance\n",
        "print('range of target:', np.min(ds.target),np.max(ds.target))\n",
        "\n",
        "\n"
      ],
      "execution_count": 0,
      "outputs": [
        {
          "output_type": "stream",
          "text": [
            "features shape: (442, 10) format is: ('rows', 'columns')\n",
            "range of target: 25.0 346.0\n"
          ],
          "name": "stdout"
        }
      ]
    },
    {
      "cell_type": "code",
      "metadata": {
        "id": "PWx8LPDOHlId",
        "colab_type": "code",
        "outputId": "2e3565e4-262a-4920-835e-4f982e67ff92",
        "colab": {
          "base_uri": "https://localhost:8080/",
          "height": 977
        }
      },
      "source": [
        "from pprint import pprint\n",
        "\n",
        "# we can set the fields inside of ds and set them to new variables in python\n",
        "pprint(ds.data) # prints out elements of the matrix\n",
        "pprint(ds.target) # prints the vector (all 442 items)"
      ],
      "execution_count": 0,
      "outputs": [
        {
          "output_type": "stream",
          "text": [
            "array([[ 0.03807591,  0.05068012,  0.06169621, ..., -0.00259226,\n",
            "         0.01990842, -0.01764613],\n",
            "       [-0.00188202, -0.04464164, -0.05147406, ..., -0.03949338,\n",
            "        -0.06832974, -0.09220405],\n",
            "       [ 0.08529891,  0.05068012,  0.04445121, ..., -0.00259226,\n",
            "         0.00286377, -0.02593034],\n",
            "       ...,\n",
            "       [ 0.04170844,  0.05068012, -0.01590626, ..., -0.01107952,\n",
            "        -0.04687948,  0.01549073],\n",
            "       [-0.04547248, -0.04464164,  0.03906215, ...,  0.02655962,\n",
            "         0.04452837, -0.02593034],\n",
            "       [-0.04547248, -0.04464164, -0.0730303 , ..., -0.03949338,\n",
            "        -0.00421986,  0.00306441]])\n",
            "array([151.,  75., 141., 206., 135.,  97., 138.,  63., 110., 310., 101.,\n",
            "        69., 179., 185., 118., 171., 166., 144.,  97., 168.,  68.,  49.,\n",
            "        68., 245., 184., 202., 137.,  85., 131., 283., 129.,  59., 341.,\n",
            "        87.,  65., 102., 265., 276., 252.,  90., 100.,  55.,  61.,  92.,\n",
            "       259.,  53., 190., 142.,  75., 142., 155., 225.,  59., 104., 182.,\n",
            "       128.,  52.,  37., 170., 170.,  61., 144.,  52., 128.,  71., 163.,\n",
            "       150.,  97., 160., 178.,  48., 270., 202., 111.,  85.,  42., 170.,\n",
            "       200., 252., 113., 143.,  51.,  52., 210.,  65., 141.,  55., 134.,\n",
            "        42., 111.,  98., 164.,  48.,  96.,  90., 162., 150., 279.,  92.,\n",
            "        83., 128., 102., 302., 198.,  95.,  53., 134., 144., 232.,  81.,\n",
            "       104.,  59., 246., 297., 258., 229., 275., 281., 179., 200., 200.,\n",
            "       173., 180.,  84., 121., 161.,  99., 109., 115., 268., 274., 158.,\n",
            "       107.,  83., 103., 272.,  85., 280., 336., 281., 118., 317., 235.,\n",
            "        60., 174., 259., 178., 128.,  96., 126., 288.,  88., 292.,  71.,\n",
            "       197., 186.,  25.,  84.,  96., 195.,  53., 217., 172., 131., 214.,\n",
            "        59.,  70., 220., 268., 152.,  47.,  74., 295., 101., 151., 127.,\n",
            "       237., 225.,  81., 151., 107.,  64., 138., 185., 265., 101., 137.,\n",
            "       143., 141.,  79., 292., 178.,  91., 116.,  86., 122.,  72., 129.,\n",
            "       142.,  90., 158.,  39., 196., 222., 277.,  99., 196., 202., 155.,\n",
            "        77., 191.,  70.,  73.,  49.,  65., 263., 248., 296., 214., 185.,\n",
            "        78.,  93., 252., 150.,  77., 208.,  77., 108., 160.,  53., 220.,\n",
            "       154., 259.,  90., 246., 124.,  67.,  72., 257., 262., 275., 177.,\n",
            "        71.,  47., 187., 125.,  78.,  51., 258., 215., 303., 243.,  91.,\n",
            "       150., 310., 153., 346.,  63.,  89.,  50.,  39., 103., 308., 116.,\n",
            "       145.,  74.,  45., 115., 264.,  87., 202., 127., 182., 241.,  66.,\n",
            "        94., 283.,  64., 102., 200., 265.,  94., 230., 181., 156., 233.,\n",
            "        60., 219.,  80.,  68., 332., 248.,  84., 200.,  55.,  85.,  89.,\n",
            "        31., 129.,  83., 275.,  65., 198., 236., 253., 124.,  44., 172.,\n",
            "       114., 142., 109., 180., 144., 163., 147.,  97., 220., 190., 109.,\n",
            "       191., 122., 230., 242., 248., 249., 192., 131., 237.,  78., 135.,\n",
            "       244., 199., 270., 164.,  72.,  96., 306.,  91., 214.,  95., 216.,\n",
            "       263., 178., 113., 200., 139., 139.,  88., 148.,  88., 243.,  71.,\n",
            "        77., 109., 272.,  60.,  54., 221.,  90., 311., 281., 182., 321.,\n",
            "        58., 262., 206., 233., 242., 123., 167.,  63., 197.,  71., 168.,\n",
            "       140., 217., 121., 235., 245.,  40.,  52., 104., 132.,  88.,  69.,\n",
            "       219.,  72., 201., 110.,  51., 277.,  63., 118.,  69., 273., 258.,\n",
            "        43., 198., 242., 232., 175.,  93., 168., 275., 293., 281.,  72.,\n",
            "       140., 189., 181., 209., 136., 261., 113., 131., 174., 257.,  55.,\n",
            "        84.,  42., 146., 212., 233.,  91., 111., 152., 120.,  67., 310.,\n",
            "        94., 183.,  66., 173.,  72.,  49.,  64.,  48., 178., 104., 132.,\n",
            "       220.,  57.])\n"
          ],
          "name": "stdout"
        }
      ]
    },
    {
      "cell_type": "markdown",
      "metadata": {
        "id": "bdg5ho2nHlIh",
        "colab_type": "text"
      },
      "source": [
        "________________________________________________________________________________________________________\n",
        "<a id=\"linearnumpy\"></a>\n",
        "<a href=\"#top\">Back to Top</a>\n",
        "## Using Linear Regression \n",
        "In the videos, we derived the formula for calculating the optimal values of the regression weights (you must be connected to the internet for this equation to show up properly):\n",
        "\n",
        "$$ w = (X^TX)^{-1}X^Ty $$\n",
        "\n",
        "where $X$ is the matrix of values with a bias column of ones appended onto it. For the diabetes dataset one could construct this $X$ matrix by stacking a column of ones onto the `ds.data` matrix. \n",
        "\n",
        "$$ X=\\begin{bmatrix}\n",
        "         & \\vdots &        &  1 \\\\\n",
        "        \\dotsb & \\text{ds.data} & \\dotsb &  \\vdots\\\\\n",
        "         & \\vdots &         &  1\\\\\n",
        "     \\end{bmatrix}\n",
        "$$\n",
        "\n",
        "**Question 1:** For the diabetes dataset, how many elements will the vector $w$ contain?"
      ]
    },
    {
      "cell_type": "code",
      "metadata": {
        "id": "pOe5l04VHlIi",
        "colab_type": "code",
        "outputId": "c2a25d81-5247-485f-dc78-7afd238d0ef3",
        "colab": {
          "base_uri": "https://localhost:8080/",
          "height": 35
        }
      },
      "source": [
        "# Enter your answer here (or write code to calculate it)\n",
        "\n",
        "w = 11 \n",
        "\n",
        "print ('The answer is:', ds.data.shape[1]+1, 'elements are in w')\n",
        "\n",
        "#So if I start off with an 11x442 transpose 442x11, remember the inner dimensions have to match and the result is an 11 x 11 matrix: \n",
        "# 11x442 T 442x11 inverse-> 11x11 * 11x442->  11x442 * Y (442X1) -> 11x1 matrix\n",
        "# X*w = yhat\n",
        "# 442x11 * 11x1 = 442x1\n"
      ],
      "execution_count": 0,
      "outputs": [
        {
          "output_type": "stream",
          "text": [
            "The answer is: 11 elements are in w\n"
          ],
          "name": "stdout"
        }
      ]
    },
    {
      "cell_type": "markdown",
      "metadata": {
        "id": "3qnEh_uQHlIl",
        "colab_type": "text"
      },
      "source": [
        "________________________________________________________________________________________________________\n",
        "\n",
        "**Exercise 1:** In the following empty cell, use this equation and numpy matrix operations to find the values of the vector $w$. You will need to be sure $X$ and $y$ are created like the instructor talked about in the video. Don't forget to include any modifications to $X$ to account for the bias term in $w$. You might be interested in the following functions:\n",
        "\n",
        "- `np.hstack((mat1,mat2))` stack two matrices horizontally, to create a new matrix\n",
        "- `np.ones((rows,cols))` create a matrix full of ones\n",
        "- `my_mat.T` takes transpose of numpy matrix named `my_mat`\n",
        "- `np.dot(mat1,mat2)` is matrix multiplication for two matrices\n",
        "- `np.linalg.inv(mat)` gets the inverse of the variable `mat`"
      ]
    },
    {
      "cell_type": "code",
      "metadata": {
        "id": "qEOHzdohHlIm",
        "colab_type": "code",
        "outputId": "f51c7645-1cbb-45ea-8902-80ee62cf1cb3",
        "colab": {
          "base_uri": "https://localhost:8080/",
          "height": 266
        }
      },
      "source": [
        "rows = ds.data.shape[0]             #<- grab all of the data for X\n",
        "ones_col = np.ones([rows,1])        #<- create a ones column for the bias term \n",
        "X = np.hstack( (ones_col, ds.data) )  #<- stack the ones column onto ds.data using np.haystack(), litterally appends the ones column to X (hstack == stack horizontally) \n",
        "\n",
        "y = ds.target\n",
        "\n",
        "\n",
        "w = np.dot( np.dot( np.linalg.inv( np.dot(X.T, X) ) , X.T ) , y)\n",
        "print(w) \n",
        "\n",
        "#Here is an easier way to express this in python\n",
        "#We just make x and y into matrices\n",
        "\n",
        "Xm = np.matrix(X)\n",
        "Ym = np.matrix(y.reshape((len(y),1)))\n",
        "\n",
        "wm = (Xm.T * Xm)**-1 * Xm.T * Ym \n",
        "print(wm)"
      ],
      "execution_count": 0,
      "outputs": [
        {
          "output_type": "stream",
          "text": [
            "[ 152.13348416  -10.01219782 -239.81908937  519.83978679  324.39042769\n",
            " -792.18416163  476.74583782  101.04457032  177.06417623  751.27932109\n",
            "   67.62538639]\n",
            "[[ 152.13348416]\n",
            " [ -10.01219782]\n",
            " [-239.81908937]\n",
            " [ 519.83978679]\n",
            " [ 324.39042769]\n",
            " [-792.18416163]\n",
            " [ 476.74583782]\n",
            " [ 101.04457032]\n",
            " [ 177.06417623]\n",
            " [ 751.27932109]\n",
            " [  67.62538639]]\n"
          ],
          "name": "stdout"
        }
      ]
    },
    {
      "cell_type": "markdown",
      "metadata": {
        "id": "5cjtFsmsHlIq",
        "colab_type": "text"
      },
      "source": [
        "\n",
        "___\n",
        "<a id=\"sklearn\"></a>\n",
        "<a href=\"#top\">Back to Top</a>\n",
        "# Start of Live Session Coding\n",
        "\n",
        "**Exercise 2:** Scikit-learn also has a linear regression fitting implementation. Look at the scikit learn API and learn to use the linear regression method. The API is here: \n",
        "\n",
        "- API Reference: http://scikit-learn.org/stable/modules/generated/sklearn.linear_model.LinearRegression.html\n",
        "\n",
        "Use the sklearn `LinearRegression` module to check your results from the previous question. \n",
        "\n",
        "**Question 2**: Did you get the same parameters? "
      ]
    },
    {
      "cell_type": "code",
      "metadata": {
        "id": "XnU9OS70HlIs",
        "colab_type": "code",
        "outputId": "c9c97a3c-a6d4-42be-98d8-5b3c527c2385",
        "colab": {
          "base_uri": "https://localhost:8080/",
          "height": 88
        }
      },
      "source": [
        "from sklearn.linear_model import LinearRegression\n",
        "\n",
        "# write your code here, print the values of model by accessing \n",
        "#    its properties that you looked up from the API\n",
        "\n",
        "lr = LinearRegression()\n",
        "\n",
        "lr.fit(ds.data, ds.target)\n",
        "\n",
        "yhat = lr.predict(ds.data)\n",
        "\n",
        "print('model coefficients are:', lr.coef_)\n",
        "print('model intercept is', lr.intercept_)\n",
        "print('Answer to question is', 'Yes we do')"
      ],
      "execution_count": 0,
      "outputs": [
        {
          "output_type": "stream",
          "text": [
            "model coefficients are: [ -10.01219782 -239.81908937  519.83978679  324.39042769 -792.18416163\n",
            "  476.74583782  101.04457032  177.06417623  751.27932109   67.62538639]\n",
            "model intercept is 152.1334841628965\n",
            "Answer to question is Yes we do\n"
          ],
          "name": "stdout"
        }
      ]
    },
    {
      "cell_type": "markdown",
      "metadata": {
        "id": "TfLzagMYHlIv",
        "colab_type": "text"
      },
      "source": [
        "________________________________________________________________________________________________________\n",
        "\n",
        "Recall that to predict the output from our model, $\\hat{y}$, from $w$ and $X$ we need to use the following formula:\n",
        "\n",
        "- $\\hat{y}=w^TX^T$\n",
        "\n",
        "Where $X$ is a matrix with example instances in *each row* of the matrix. \n",
        "\n",
        "**Exercise 3:** \n",
        "- *Part A:* Use matrix multiplication to predict output using numpy, $\\hat{y}_{numpy}$ and also using the sklearn regression object, $\\hat{y}_{sklearn}$.\n",
        " - **Note**: you may need to make the regression weights a column vector using the following code: `w = w.reshape((len(w),1))` This assumes your weights vector is assigned to the variable named `w`.\n",
        "- *Part B:* Calculate the mean squared error between your prediction from numpy and the target, $\\sum_i(y-\\hat{y}_{numpy})^2$. \n",
        "- *Part C:* Calculate the mean squared error between your sklearn prediction and the target, $\\sum_i(y-\\hat{y}_{sklearn})^2$."
      ]
    },
    {
      "cell_type": "code",
      "metadata": {
        "id": "0emUosVFHlIw",
        "colab_type": "code",
        "outputId": "180ecfab-f630-4c58-a1d4-876c1f39b5b0",
        "colab": {
          "base_uri": "https://localhost:8080/",
          "height": 52
        }
      },
      "source": [
        "# Use this block to answer the questions\n",
        "\n",
        "# w = w.reshape((len(w),1)) # make w a column vector\n",
        "from sklearn.metrics import mean_squared_error, r2_score\n",
        "\n",
        "np_mse = (np.square(ds.target - yhat)).mean()\n",
        "\n",
        "print('MSE Sklearn is:', mean_squared_error(ds.target, yhat))\n",
        "print('MSE Numpy is:', np_mse)"
      ],
      "execution_count": 0,
      "outputs": [
        {
          "output_type": "stream",
          "text": [
            "MSE Sklearn is: 2859.6903987680657\n",
            "MSE Numpy is: 2859.6903987680657\n"
          ],
          "name": "stdout"
        }
      ]
    },
    {
      "cell_type": "markdown",
      "metadata": {
        "id": "GUrK1dlGHlIz",
        "colab_type": "text"
      },
      "source": [
        "________________________________________________________________________________________________________\n",
        "<a id=\"classification\"></a>\n",
        "<a href=\"#top\">Back to Top</a>\n",
        "## Using Linear Classification\n",
        "Now lets use the code you created to make a classifier with linear boundaries. Run the following code in order to load the iris dataset."
      ]
    },
    {
      "cell_type": "code",
      "metadata": {
        "id": "H6J_sSeyHlI0",
        "colab_type": "code",
        "outputId": "7597ceff-fd5b-43c9-b438-c0502fb22937",
        "colab": {
          "base_uri": "https://localhost:8080/",
          "height": 70
        }
      },
      "source": [
        "from sklearn.datasets import load_iris\n",
        "import numpy as np\n",
        "\n",
        "# this will overwrite the diabetes dataset\n",
        "ds = load_iris()\n",
        "print('features shape:', ds.data.shape) # there are 150 instances and 4 features per instance\n",
        "print('original number of classes:', len(np.unique(ds.target)))\n",
        "\n",
        "# now let's make this a binary classification task\n",
        "ds.target = ds.target>1\n",
        "print ('new number of classes:', len(np.unique(ds.target)))"
      ],
      "execution_count": 0,
      "outputs": [
        {
          "output_type": "stream",
          "text": [
            "features shape: (150, 4)\n",
            "original number of classes: 3\n",
            "new number of classes: 2\n"
          ],
          "name": "stdout"
        }
      ]
    },
    {
      "cell_type": "code",
      "metadata": {
        "id": "ZXn9jmahMPHL",
        "colab_type": "code",
        "outputId": "af90f384-2a31-49f6-eaf2-57ec2fb348d8",
        "colab": {
          "base_uri": "https://localhost:8080/",
          "height": 248
        }
      },
      "source": [
        "print(ds.target)"
      ],
      "execution_count": 0,
      "outputs": [
        {
          "output_type": "stream",
          "text": [
            "[False False False False False False False False False False False False\n",
            " False False False False False False False False False False False False\n",
            " False False False False False False False False False False False False\n",
            " False False False False False False False False False False False False\n",
            " False False False False False False False False False False False False\n",
            " False False False False False False False False False False False False\n",
            " False False False False False False False False False False False False\n",
            " False False False False False False False False False False False False\n",
            " False False False False  True  True  True  True  True  True  True  True\n",
            "  True  True  True  True  True  True  True  True  True  True  True  True\n",
            "  True  True  True  True  True  True  True  True  True  True  True  True\n",
            "  True  True  True  True  True  True  True  True  True  True  True  True\n",
            "  True  True  True  True  True  True]\n"
          ],
          "name": "stdout"
        }
      ]
    },
    {
      "cell_type": "markdown",
      "metadata": {
        "id": "J6oXeLBzHlI4",
        "colab_type": "text"
      },
      "source": [
        "________________________________________________________________________________________________________\n",
        "\n",
        "**Exercise 4:** Now use linear regression to come up with a set of weights, `w`, that predict the class value. This is exactly like you did before for the *diabetes* dataset. However, instead of regressing to continuous values, you are just regressing to the integer value of the class (0 or 1), like we talked about in the video. Remember to account for the bias term when constructing the feature matrix, `X`. Print the weights of the linear classifier."
      ]
    },
    {
      "cell_type": "code",
      "metadata": {
        "id": "1zDs_zvyHlI5",
        "colab_type": "code",
        "outputId": "542af67e-6f37-476f-8d97-64178d83b75d",
        "colab": {
          "base_uri": "https://localhost:8080/",
          "height": 124
        }
      },
      "source": [
        "# write your code here and print the values of the weights \n",
        "\n",
        "rows = ds.data.shape[0]             #<- grab all of the data for X\n",
        "ones_col = np.ones([rows,1])        #<- create a ones column for the bias term \n",
        "X = np.hstack( (ones_col, ds.data) )  #<- stack the ones column onto ds.data using np.haystack(), litterally appends the ones column to X (hstack == stack horizontally) \n",
        "\n",
        "y = ds.target\n",
        "\n",
        "\n",
        "w = np.dot( np.dot( np.linalg.inv( np.dot(X.T, X) ) , X.T ) , y)\n",
        "print(w) \n",
        "\n",
        "#Here is an easier way to express this in python\n",
        "#We just make x and y into matrices\n",
        "\n",
        "Xm = np.matrix(X)\n",
        "Ym = np.matrix(y.reshape((len(y),1)))\n",
        "\n",
        "wm = (Xm.T * Xm)**-1 * Xm.T * Ym \n",
        "print(wm)\n",
        "\n",
        "#"
      ],
      "execution_count": 0,
      "outputs": [
        {
          "output_type": "stream",
          "text": [
            "[-0.69528186 -0.04587608  0.20276839  0.00398791  0.55177932]\n",
            "[[-0.69528186]\n",
            " [-0.04587608]\n",
            " [ 0.20276839]\n",
            " [ 0.00398791]\n",
            " [ 0.55177932]]\n"
          ],
          "name": "stdout"
        }
      ]
    },
    {
      "cell_type": "markdown",
      "metadata": {
        "id": "RW1FCHJsHlI8",
        "colab_type": "text"
      },
      "source": [
        "________________________________________________________________________________________________________\n",
        "\n",
        "**Exercise 5:** Finally, use a hard decision function on the output of the linear regression to make this a binary classifier. This is just like we talked about in the video, where the output of the linear regression passes through a function: \n",
        "\n",
        "- $\\hat{y}=g(w^TX^T)$ where\n",
        " - $g(w^TX^T)$ for $w^TX^T < \\alpha$ maps the predicted class to `0` \n",
        " - $g(w^TX^T)$ for $w^TX^T \\geq \\alpha$ maps the predicted class to `1`. \n",
        "\n",
        "Here, alpha is a threshold for deciding the class. \n",
        "\n",
        "**Question 3**: What value for $\\alpha$ makes the most sense? What is the accuracy of the classifier given the $\\alpha$ you chose? \n",
        "\n",
        "Note: You can calculate the accuracy with the following code: `accuracy = float(sum(yhat==y)) / len(y)` assuming you choose variable names `y` and `yhat` for the target and prediction, respectively."
      ]
    },
    {
      "cell_type": "code",
      "metadata": {
        "id": "GY1utCDnHlI9",
        "colab_type": "code",
        "outputId": "bdb7d3de-0ad9-414b-9a23-9d7c93b7cb41",
        "colab": {
          "base_uri": "https://localhost:8080/",
          "height": 159
        }
      },
      "source": [
        "# use this box to predict the classification output\n",
        "from numpy import dot as mmult \n",
        "from numpy.linalg import inv\n",
        "\n",
        "#y = np.matrix(ds.target)\n",
        "#X = np.matrix(ds.data)\n",
        "#print(y)\n",
        "\n",
        "X = np.hstack((np.ones([ds.data.shape[0],1]),ds.data))\n",
        "y = ds.target \n",
        "w = inv(mmult(X.T, X)).dot(mmult(X.T,y))\n",
        "\n",
        "yhat_temp = X.dot(w) \n",
        "\n",
        "alphas = [0.570, 0.575, 0.580, 0.585]\n",
        "for alpha in alphas:\n",
        "  yhat = yhat_temp > alpha \n",
        "  accuracy = float(sum(yhat==y)) / len(y)\n",
        "  print('Percentage accuracy:', accuracy)\n",
        "  print('alpha', alpha)"
      ],
      "execution_count": 0,
      "outputs": [
        {
          "output_type": "stream",
          "text": [
            "Percentage accuracy: 0.94\n",
            "alpha 0.57\n",
            "Percentage accuracy: 0.94\n",
            "alpha 0.575\n",
            "Percentage accuracy: 0.9266666666666666\n",
            "alpha 0.58\n",
            "Percentage accuracy: 0.9266666666666666\n",
            "alpha 0.585\n"
          ],
          "name": "stdout"
        }
      ]
    },
    {
      "cell_type": "markdown",
      "metadata": {
        "id": "Qq9XJFypHlJB",
        "colab_type": "text"
      },
      "source": [
        "________________________________________________________________________________________________________\n",
        "\n",
        "That's all! Please **save (make sure you saved!!!) and upload your rendered notebook** and please include **team member names** in the notebook submission."
      ]
    },
    {
      "cell_type": "code",
      "metadata": {
        "id": "IqOIeL4NHlJC",
        "colab_type": "code",
        "outputId": "385b882a-5a2c-40fc-e19f-0c7131770f5f",
        "colab": {
          "base_uri": "https://localhost:8080/",
          "height": 461
        }
      },
      "source": [
        "#We find alpha 0.57 showed the highest accuracy 94%. We will continue improve with validation and structurize the code"
      ],
      "execution_count": 0,
      "outputs": [
        {
          "output_type": "stream",
          "text": [
            "[-0.1036216  -0.19583058 -0.14650048 -0.16139213 -0.07875716  0.07527516\n",
            " -0.04578247 -0.11891204 -0.19316938 -0.23033288 -0.07643196 -0.10933804\n",
            " -0.2464209  -0.22467924 -0.03514825  0.16209895  0.07368    -0.04844367\n",
            " -0.01394243  0.01278563 -0.1364649   0.04768673 -0.06200189  0.02255489\n",
            " -0.10814166 -0.19962061 -0.00815739 -0.10781042 -0.12848605 -0.1453041\n",
            " -0.17016855 -0.02690661 -0.04132732  0.01996583 -0.17515495 -0.16066209\n",
            " -0.12237083 -0.12934748 -0.17329133 -0.12349965 -0.04425485 -0.26463888\n",
            " -0.13273765  0.12247532  0.06955873 -0.13606504 -0.04199351 -0.14151408\n",
            " -0.07184435 -0.13958767  0.42367862  0.50558462  0.4639649   0.25203172\n",
            "  0.42028844  0.34623466  0.58642458  0.13150888  0.32562181  0.40168105\n",
            "  0.0466115   0.48677261  0.04328305  0.40413658  0.36750998  0.41596823\n",
            "  0.50173181  0.15424125  0.31199145  0.17724314  0.69525283  0.32589027\n",
            "  0.36982952  0.27350387  0.33360065  0.400279    0.35214527  0.56361793\n",
            "  0.46310453  0.13615927  0.16115512  0.10557839  0.26379953  0.48012154\n",
            "  0.51090702  0.61966666  0.47234253  0.21692602  0.38978078  0.2925854\n",
            "  0.25927947  0.42401462  0.24392148  0.10664443  0.32934905  0.33041403\n",
            "  0.36531512  0.34277587  0.19659206  0.34463949  1.08821025  0.65483055\n",
            "  0.76956835  0.61926221  0.85187314  0.74942185  0.54281674  0.57617766\n",
            "  0.520602    1.10815109  0.77927942  0.62810248  0.78173601  0.67364362\n",
            "  0.95099705  0.95019841  0.62996504  0.96262567  0.77527912  0.32316062\n",
            "  0.92885553  0.73866296  0.64950142  0.57591699  0.84795172  0.64039941\n",
            "  0.60038265  0.64592273  0.75993156  0.48869229  0.60569357  0.84189821\n",
            "  0.81510949  0.43145762  0.34689518  0.85319615  1.051714    0.65482949\n",
            "  0.65011154  0.79702645  0.97253305  0.90618594  0.65483055  0.93424072\n",
            "  1.06866345  0.89548311  0.59094004  0.73912453  1.00032609  0.65589553]\n"
          ],
          "name": "stdout"
        }
      ]
    }
  ]
}